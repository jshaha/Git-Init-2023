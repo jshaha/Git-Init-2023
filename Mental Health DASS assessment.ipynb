{
 "cells": [
  {
   "cell_type": "code",
   "execution_count": 5,
   "id": "49d8d343",
   "metadata": {},
   "outputs": [],
   "source": [
    "import pandas as pd"
   ]
  },
  {
   "cell_type": "code",
   "execution_count": 6,
   "id": "10db53cc",
   "metadata": {},
   "outputs": [],
   "source": [
    "\n",
    "category2Question = {\n",
    "    \"Depression\" : [\n",
    "        \"I couldn’t seem to experience any positive feeling at all \",\n",
    "        \"I found it difficult to work up the initiative to do things\",\n",
    "        \"I felt that I had nothing to look forward to \",\n",
    "        \"I felt down-hearted and blue\",\n",
    "        \"I was unable to become enthusiastic about anything\",\n",
    "        \"I felt I wasn’t worth much as a person\",\n",
    "        \"I felt that life was meaningless\",\n",
    "        \n",
    "    ],\n",
    "    \"Anxiety\" : [\n",
    "        \"I was aware of dryness of my mouth\",\n",
    "        \"I experienced breathing difficulty (e.g. excessively rapid breathing, breathlessness in the absence of physical exertion)\",\n",
    "        \"I experienced trembling (e.g. in the hands)\",\n",
    "        \"I was worried about situations in which I might panic and make a fool of myself\",\n",
    "        \"I felt I was close to panic\",\n",
    "        \"I was aware of the action of my heart in the absence of physical exertion (e.g. sense of heart rate increase, heart missing a beat)\",\n",
    "        \"I felt scared without any good reason\",\n",
    "        ],\n",
    "    \"Stress\" : [\n",
    "        \"I found it difficult to relax \",\n",
    "        \"I tended to over-react to situations\",\n",
    "        \"I felt that I was using a lot of nervous energy\",\n",
    "        \"I found myself getting agitated \",\n",
    "        \"I was intolerant of anything that kept me from getting on with what I was doing \",\n",
    "        \"I felt that I was rather touchy\",  \n",
    "    ],\n",
    "}\n",
    "\n",
    "response2Score = {\n",
    "    \"Almost always\" : 6,\n",
    "    \"Often\" : 4,\n",
    "    \"Sometimes\" : 2,\n",
    "    \"Never\" : 0,\n",
    "}\n",
    "\n",
    "category2Bounds = {\n",
    "    \"Stress\" : [10, 18, 26, 34],\n",
    "    \"Depression\" : [6, 9, 14, 19],\n",
    "    \"Anxiety\" : [9, 12, 20, 27],\n",
    "}\n",
    "category2Resource = {\n",
    "    \"Stress\" : \"https://www.mayoclinic.org/healthy-lifestyle/stress-management/in-depth/stress-relievers/art-20047257\",\n",
    "    \"Depression\" : \"https://www.webmd.com/depression/features/natural-treatments\",\n",
    "    \"Anxiety\" : \"https://www.healthline.com/health/natural-ways-to-reduce-anxiety\",\n",
    "}"
   ]
  },
  {
   "cell_type": "code",
   "execution_count": 49,
   "id": "f06f9a6e",
   "metadata": {},
   "outputs": [],
   "source": [
    "separator = '\\n\\t'\n",
    "def add_resource(readable_score, category):\n",
    "    result = f\"{category} score: {readable_score}.\"\n",
    "    if readable_score != \"Normal\" and readable_score != \"Mild\":\n",
    "        result += f\" For tips on reducing this score, please see {separator}   {category2Resource[category]}\"\n",
    "    return result\n",
    "\n",
    "def score2readable(score, category):\n",
    "    bounds = category2Bounds[category]\n",
    "    readable_score = None\n",
    "    if score < bounds[0]:\n",
    "        readable_score = \"Normal\"\n",
    "    elif score < bounds[1]:\n",
    "        readable_score = \"Mild\"\n",
    "    elif score < bounds[2]:\n",
    "        readable_score = \"Moderate\"\n",
    "    elif score < bounds[3]:\n",
    "        readable_score = \"Severe\"\n",
    "    else:\n",
    "        readable_score = \"Extremely Severe\"\n",
    "    return add_resource(readable_score, category)\n",
    "\n",
    "def calculateScore(category, df, user):\n",
    "    users_responses = df[df['Email Address'] == user]\n",
    "    score = 0\n",
    "    for question in category2Question[category]:\n",
    "        resp = list(users_responses[question])\n",
    "        score += response2Score[resp[0]]\n",
    "    return score2readable(score, category)"
   ]
  },
  {
   "cell_type": "code",
   "execution_count": 50,
   "id": "4cd1c57d",
   "metadata": {},
   "outputs": [],
   "source": [
    "df = pd.read_csv('responses.csv')"
   ]
  },
  {
   "cell_type": "code",
   "execution_count": 51,
   "id": "33b188ba",
   "metadata": {},
   "outputs": [
    {
     "name": "stdout",
     "output_type": "stream",
     "text": [
      "shahatitamir@gmail.com\n",
      "\t Depression score: Extremely Severe. For tips on reducing this score, please see \n",
      "\t   https://www.webmd.com/depression/features/natural-treatments\n",
      "\tAnxiety score: Severe. For tips on reducing this score, please see \n",
      "\t   https://www.healthline.com/health/natural-ways-to-reduce-anxiety\n",
      "\tStress score: Mild.\n",
      "vpnymi@gmail.com\n",
      "\t Depression score: Extremely Severe. For tips on reducing this score, please see \n",
      "\t   https://www.webmd.com/depression/features/natural-treatments\n",
      "\tAnxiety score: Severe. For tips on reducing this score, please see \n",
      "\t   https://www.healthline.com/health/natural-ways-to-reduce-anxiety\n",
      "\tStress score: Moderate. For tips on reducing this score, please see \n",
      "\t   https://www.mayoclinic.org/healthy-lifestyle/stress-management/in-depth/stress-relievers/art-20047257\n",
      "shahatitjacob@gmail.com\n",
      "\t Depression score: Extremely Severe. For tips on reducing this score, please see \n",
      "\t   https://www.webmd.com/depression/features/natural-treatments\n",
      "\tAnxiety score: Extremely Severe. For tips on reducing this score, please see \n",
      "\t   https://www.healthline.com/health/natural-ways-to-reduce-anxiety\n",
      "\tStress score: Moderate. For tips on reducing this score, please see \n",
      "\t   https://www.mayoclinic.org/healthy-lifestyle/stress-management/in-depth/stress-relievers/art-20047257\n"
     ]
    }
   ],
   "source": [
    "for email in df['Email Address']:\n",
    "    scores = []\n",
    "    for category in category2Question.keys():\n",
    "        scores.append(calculateScore(category, df, email))\n",
    "    print(email + separator, separator.join(scores))"
   ]
  },
  {
   "cell_type": "code",
   "execution_count": null,
   "id": "01d8d8ae",
   "metadata": {},
   "outputs": [],
   "source": []
  },
  {
   "cell_type": "code",
   "execution_count": null,
   "id": "96b6be47",
   "metadata": {},
   "outputs": [],
   "source": []
  }
 ],
 "metadata": {
  "kernelspec": {
   "display_name": "Python 3 (ipykernel)",
   "language": "python",
   "name": "python3"
  },
  "language_info": {
   "codemirror_mode": {
    "name": "ipython",
    "version": 3
   },
   "file_extension": ".py",
   "mimetype": "text/x-python",
   "name": "python",
   "nbconvert_exporter": "python",
   "pygments_lexer": "ipython3",
   "version": "3.9.9"
  }
 },
 "nbformat": 4,
 "nbformat_minor": 5
}
